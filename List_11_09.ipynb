{
  "nbformat": 4,
  "nbformat_minor": 0,
  "metadata": {
    "colab": {
      "provenance": []
    },
    "kernelspec": {
      "name": "python3",
      "display_name": "Python 3"
    },
    "language_info": {
      "name": "python"
    }
  },
  "cells": [
    {
      "cell_type": "markdown",
      "source": [
        "List -> Mutable -> changbale (modify)\n",
        "=> list is collection different ele(DT).\n",
        "=> []  -> size varray -> var_name = []\n",
        "=> Advance version array  -> array faster as compare to list\n",
        "=> duplicate allow"
      ],
      "metadata": {
        "id": "OlXf5YIpCqIx"
      }
    },
    {
      "cell_type": "code",
      "source": [
        "l = [1111,2,3,4,5,5,\"Harsh\",True,22.2]\n",
        "print(l)"
      ],
      "metadata": {
        "colab": {
          "base_uri": "https://localhost:8080/"
        },
        "id": "lNSybRAuChOw",
        "outputId": "708bcff4-efbe-44bc-eaff-b188b082ed36"
      },
      "execution_count": 9,
      "outputs": [
        {
          "output_type": "stream",
          "name": "stdout",
          "text": [
            "[1111, 2, 3, 4, 5, 5, 'Harsh', True, 22.2]\n"
          ]
        }
      ]
    },
    {
      "cell_type": "code",
      "source": [
        "l.index(3)"
      ],
      "metadata": {
        "colab": {
          "base_uri": "https://localhost:8080/"
        },
        "id": "aQ0zYIblHL_U",
        "outputId": "cfd0a76e-2e50-4fb9-e6c2-6c9d3cfb5dcb"
      },
      "execution_count": 13,
      "outputs": [
        {
          "output_type": "execute_result",
          "data": {
            "text/plain": [
              "2"
            ]
          },
          "metadata": {},
          "execution_count": 13
        }
      ]
    },
    {
      "cell_type": "code",
      "source": [
        "l.find(3)"
      ],
      "metadata": {
        "colab": {
          "base_uri": "https://localhost:8080/",
          "height": 148
        },
        "id": "Zt1cg2GuHepX",
        "outputId": "333075f0-4861-40f4-e03f-e2a6a85bb560"
      },
      "execution_count": 14,
      "outputs": [
        {
          "output_type": "error",
          "ename": "AttributeError",
          "evalue": "'list' object has no attribute 'find'",
          "traceback": [
            "\u001b[0;31m---------------------------------------------------------------------------\u001b[0m",
            "\u001b[0;31mAttributeError\u001b[0m                            Traceback (most recent call last)",
            "\u001b[0;32m<ipython-input-14-5fab7a2e12da>\u001b[0m in \u001b[0;36m<cell line: 1>\u001b[0;34m()\u001b[0m\n\u001b[0;32m----> 1\u001b[0;31m \u001b[0ml\u001b[0m\u001b[0;34m.\u001b[0m\u001b[0mfind\u001b[0m\u001b[0;34m(\u001b[0m\u001b[0;36m3\u001b[0m\u001b[0;34m)\u001b[0m\u001b[0;34m\u001b[0m\u001b[0;34m\u001b[0m\u001b[0m\n\u001b[0m",
            "\u001b[0;31mAttributeError\u001b[0m: 'list' object has no attribute 'find'"
          ]
        }
      ]
    },
    {
      "cell_type": "code",
      "source": [
        "print(type(l))\n",
        "print(len(l))"
      ],
      "metadata": {
        "colab": {
          "base_uri": "https://localhost:8080/"
        },
        "id": "dJypumy9F3FN",
        "outputId": "674a6fb5-6bc0-424a-f847-99c5555df760"
      },
      "execution_count": 10,
      "outputs": [
        {
          "output_type": "stream",
          "name": "stdout",
          "text": [
            "<class 'list'>\n",
            "9\n"
          ]
        }
      ]
    },
    {
      "cell_type": "code",
      "source": [
        "print(l[8])"
      ],
      "metadata": {
        "colab": {
          "base_uri": "https://localhost:8080/"
        },
        "id": "tNpUkSsxHB5f",
        "outputId": "3546a376-900e-49df-a514-ba959fcf5cf3"
      },
      "execution_count": 11,
      "outputs": [
        {
          "output_type": "stream",
          "name": "stdout",
          "text": [
            "22.2\n"
          ]
        }
      ]
    },
    {
      "cell_type": "code",
      "source": [
        "s = \"Hello\"\n",
        "print(len(s))"
      ],
      "metadata": {
        "colab": {
          "base_uri": "https://localhost:8080/"
        },
        "id": "KU9wkYruGNlg",
        "outputId": "e285d4a0-e425-4aa1-f55d-2a221b0669ee"
      },
      "execution_count": 8,
      "outputs": [
        {
          "output_type": "stream",
          "name": "stdout",
          "text": [
            "5\n"
          ]
        }
      ]
    },
    {
      "cell_type": "code",
      "source": [
        "print(l)"
      ],
      "metadata": {
        "colab": {
          "base_uri": "https://localhost:8080/"
        },
        "id": "7XvKSgX2GgzK",
        "outputId": "d6c39ff3-3b68-4acd-d5a8-85d1aacec8a8"
      },
      "execution_count": 15,
      "outputs": [
        {
          "output_type": "stream",
          "name": "stdout",
          "text": [
            "[1111, 2, 3, 4, 5, 5, 'Harsh', True, 22.2]\n"
          ]
        }
      ]
    },
    {
      "cell_type": "code",
      "source": [
        "l.count(5)"
      ],
      "metadata": {
        "colab": {
          "base_uri": "https://localhost:8080/"
        },
        "id": "kAIe6wIPH1KC",
        "outputId": "96ffb2ef-8dc4-4bdd-966d-aac3f384b469"
      },
      "execution_count": 16,
      "outputs": [
        {
          "output_type": "execute_result",
          "data": {
            "text/plain": [
              "2"
            ]
          },
          "metadata": {},
          "execution_count": 16
        }
      ]
    },
    {
      "cell_type": "code",
      "source": [
        "print(l[-2:])"
      ],
      "metadata": {
        "colab": {
          "base_uri": "https://localhost:8080/"
        },
        "id": "JzBEsySeH7ZP",
        "outputId": "7d196f0c-f3d3-46be-bdb5-2c22343ce0fa"
      },
      "execution_count": 17,
      "outputs": [
        {
          "output_type": "stream",
          "name": "stdout",
          "text": [
            "[True, 22.2]\n"
          ]
        }
      ]
    },
    {
      "cell_type": "code",
      "source": [
        "#print 2,3,4 and 22.2\n",
        "print(l[1:4])\n",
        "print(l[-1:])"
      ],
      "metadata": {
        "colab": {
          "base_uri": "https://localhost:8080/"
        },
        "id": "wAmLiOksITBh",
        "outputId": "3fda48be-72e5-4aa3-f28a-a9c0a3115315"
      },
      "execution_count": 21,
      "outputs": [
        {
          "output_type": "stream",
          "name": "stdout",
          "text": [
            "[2, 3, 4]\n",
            "[22.2]\n"
          ]
        }
      ]
    },
    {
      "cell_type": "code",
      "source": [
        "l[1:4]+l[-1:]"
      ],
      "metadata": {
        "colab": {
          "base_uri": "https://localhost:8080/"
        },
        "id": "rFsOY6_2IrdM",
        "outputId": "741f3c46-5230-484c-becd-9fb443f45a21"
      },
      "execution_count": 22,
      "outputs": [
        {
          "output_type": "execute_result",
          "data": {
            "text/plain": [
              "[2, 3, 4, 22.2]"
            ]
          },
          "metadata": {},
          "execution_count": 22
        }
      ]
    },
    {
      "cell_type": "code",
      "source": [
        "l"
      ],
      "metadata": {
        "colab": {
          "base_uri": "https://localhost:8080/"
        },
        "id": "ub1pFFjBJl52",
        "outputId": "64b19c36-6d0e-4fd9-b76e-b8f535fe2372"
      },
      "execution_count": 23,
      "outputs": [
        {
          "output_type": "execute_result",
          "data": {
            "text/plain": [
              "[1111, 2, 3, 4, 5, 5, 'Harsh', True, 22.2]"
            ]
          },
          "metadata": {},
          "execution_count": 23
        }
      ]
    },
    {
      "cell_type": "code",
      "source": [
        "l*2"
      ],
      "metadata": {
        "colab": {
          "base_uri": "https://localhost:8080/"
        },
        "id": "fuv_s56BI0CX",
        "outputId": "8135e069-82bd-4f60-f0b9-f1facb6ca727"
      },
      "execution_count": 24,
      "outputs": [
        {
          "output_type": "execute_result",
          "data": {
            "text/plain": [
              "[1111,\n",
              " 2,\n",
              " 3,\n",
              " 4,\n",
              " 5,\n",
              " 5,\n",
              " 'Harsh',\n",
              " True,\n",
              " 22.2,\n",
              " 1111,\n",
              " 2,\n",
              " 3,\n",
              " 4,\n",
              " 5,\n",
              " 5,\n",
              " 'Harsh',\n",
              " True,\n",
              " 22.2]"
            ]
          },
          "metadata": {},
          "execution_count": 24
        }
      ]
    },
    {
      "cell_type": "code",
      "source": [
        "p = \"Hello\"\n",
        "p*2"
      ],
      "metadata": {
        "colab": {
          "base_uri": "https://localhost:8080/",
          "height": 36
        },
        "id": "kpIvabAQJofo",
        "outputId": "282ff851-ac7e-4890-bd97-db22fa049ee6"
      },
      "execution_count": 25,
      "outputs": [
        {
          "output_type": "execute_result",
          "data": {
            "text/plain": [
              "'HelloHello'"
            ],
            "application/vnd.google.colaboratory.intrinsic+json": {
              "type": "string"
            }
          },
          "metadata": {},
          "execution_count": 25
        }
      ]
    },
    {
      "cell_type": "code",
      "source": [
        "# print hello 5 times with including spaces"
      ],
      "metadata": {
        "id": "mW5WN8QYJutc"
      },
      "execution_count": null,
      "outputs": []
    },
    {
      "cell_type": "code",
      "source": [
        "l"
      ],
      "metadata": {
        "colab": {
          "base_uri": "https://localhost:8080/"
        },
        "id": "_mGPhx_rJ6Q0",
        "outputId": "75cbb1cf-113c-4e0d-a5cd-d0adb8987ce6"
      },
      "execution_count": 26,
      "outputs": [
        {
          "output_type": "execute_result",
          "data": {
            "text/plain": [
              "[1111, 2, 3, 4, 5, 5, 'Harsh', True, 22.2]"
            ]
          },
          "metadata": {},
          "execution_count": 26
        }
      ]
    },
    {
      "cell_type": "code",
      "source": [
        "l[-2]=False  # replacing ele\n",
        "l"
      ],
      "metadata": {
        "colab": {
          "base_uri": "https://localhost:8080/"
        },
        "id": "0FetmjDmJ6hm",
        "outputId": "be3a9c09-9773-497f-8ecb-3e524fe840a7"
      },
      "execution_count": 28,
      "outputs": [
        {
          "output_type": "execute_result",
          "data": {
            "text/plain": [
              "[1111, 2, 3, 4, 5, 5, 'Harsh', False, 22.2]"
            ]
          },
          "metadata": {},
          "execution_count": 28
        }
      ]
    },
    {
      "cell_type": "code",
      "source": [
        "# Pune,mumbai,karad replace with last 3 ele\n",
        "l[-3:]=\"pune\",\"Mumbai\",\"Karad\"\n",
        "l\n"
      ],
      "metadata": {
        "colab": {
          "base_uri": "https://localhost:8080/"
        },
        "id": "8vBhEc9LKEDk",
        "outputId": "2f06103f-a9cd-4390-d1ac-15003b73f78a"
      },
      "execution_count": 29,
      "outputs": [
        {
          "output_type": "execute_result",
          "data": {
            "text/plain": [
              "[1111, 2, 3, 4, 5, 5, 'pune', 'Mumbai', 'Karad']"
            ]
          },
          "metadata": {},
          "execution_count": 29
        }
      ]
    },
    {
      "cell_type": "code",
      "source": [
        "l[-2:]=[10,20]\n",
        "l"
      ],
      "metadata": {
        "colab": {
          "base_uri": "https://localhost:8080/"
        },
        "id": "awpHkg4vKtkf",
        "outputId": "9a37345f-d59e-42e8-db86-13499ac21220"
      },
      "execution_count": 31,
      "outputs": [
        {
          "output_type": "execute_result",
          "data": {
            "text/plain": [
              "[1111, 2, 3, 4, 5, 5, 'pune', 10, 20]"
            ]
          },
          "metadata": {},
          "execution_count": 31
        }
      ]
    },
    {
      "cell_type": "code",
      "source": [
        "l.append(\"Kolhapur\") # single ele add at the end\n",
        "l"
      ],
      "metadata": {
        "colab": {
          "base_uri": "https://localhost:8080/"
        },
        "id": "P7_qj2QXK_Xl",
        "outputId": "0fdd7569-1d00-4e66-ad0c-784eb9821bc0"
      },
      "execution_count": 32,
      "outputs": [
        {
          "output_type": "execute_result",
          "data": {
            "text/plain": [
              "[1111, 2, 3, 4, 5, 5, 'pune', 10, 20, 'Kolhapur']"
            ]
          },
          "metadata": {},
          "execution_count": 32
        }
      ]
    },
    {
      "cell_type": "code",
      "source": [
        "l.append(\"katraj\",\"iskon\") # single ele add at the end\n",
        "l"
      ],
      "metadata": {
        "colab": {
          "base_uri": "https://localhost:8080/",
          "height": 166
        },
        "id": "gS33i0emMA5p",
        "outputId": "abfc175a-5106-4615-f7a5-0bc677800d4c"
      },
      "execution_count": 33,
      "outputs": [
        {
          "output_type": "error",
          "ename": "TypeError",
          "evalue": "list.append() takes exactly one argument (2 given)",
          "traceback": [
            "\u001b[0;31m---------------------------------------------------------------------------\u001b[0m",
            "\u001b[0;31mTypeError\u001b[0m                                 Traceback (most recent call last)",
            "\u001b[0;32m<ipython-input-33-51da7cde425b>\u001b[0m in \u001b[0;36m<cell line: 1>\u001b[0;34m()\u001b[0m\n\u001b[0;32m----> 1\u001b[0;31m \u001b[0ml\u001b[0m\u001b[0;34m.\u001b[0m\u001b[0mappend\u001b[0m\u001b[0;34m(\u001b[0m\u001b[0;34m\"katraj\"\u001b[0m\u001b[0;34m,\u001b[0m\u001b[0;34m\"iskon\"\u001b[0m\u001b[0;34m)\u001b[0m \u001b[0;31m# single ele add at the end\u001b[0m\u001b[0;34m\u001b[0m\u001b[0;34m\u001b[0m\u001b[0m\n\u001b[0m\u001b[1;32m      2\u001b[0m \u001b[0ml\u001b[0m\u001b[0;34m\u001b[0m\u001b[0;34m\u001b[0m\u001b[0m\n",
            "\u001b[0;31mTypeError\u001b[0m: list.append() takes exactly one argument (2 given)"
          ]
        }
      ]
    },
    {
      "cell_type": "code",
      "source": [
        "l.append([\"katraj\",\"iskon\"])  # dont use\n",
        "l"
      ],
      "metadata": {
        "colab": {
          "base_uri": "https://localhost:8080/"
        },
        "id": "ho_aywO_MGLx",
        "outputId": "6cc00076-91c9-45dd-d592-faddf952009d"
      },
      "execution_count": 34,
      "outputs": [
        {
          "output_type": "execute_result",
          "data": {
            "text/plain": [
              "[1111, 2, 3, 4, 5, 5, 'pune', 10, 20, 'Kolhapur', ['katraj', 'iskon']]"
            ]
          },
          "metadata": {},
          "execution_count": 34
        }
      ]
    },
    {
      "cell_type": "code",
      "source": [
        "l.extend([\"katraj\",\"iskon\"])  # multiple ele add at the end\n",
        "l"
      ],
      "metadata": {
        "colab": {
          "base_uri": "https://localhost:8080/"
        },
        "id": "8jS-fNYfMUGM",
        "outputId": "599aad7c-e564-43bd-d179-6e1ef78f1299"
      },
      "execution_count": 35,
      "outputs": [
        {
          "output_type": "execute_result",
          "data": {
            "text/plain": [
              "[1111,\n",
              " 2,\n",
              " 3,\n",
              " 4,\n",
              " 5,\n",
              " 5,\n",
              " 'pune',\n",
              " 10,\n",
              " 20,\n",
              " 'Kolhapur',\n",
              " ['katraj', 'iskon'],\n",
              " 'katraj',\n",
              " 'iskon']"
            ]
          },
          "metadata": {},
          "execution_count": 35
        }
      ]
    },
    {
      "cell_type": "code",
      "source": [
        "l[0]=\"data\"  #replace\n",
        "print(l)"
      ],
      "metadata": {
        "colab": {
          "base_uri": "https://localhost:8080/"
        },
        "id": "7JRMOWRSMkXc",
        "outputId": "140a5a81-3697-4b54-c556-a28b88fee316"
      },
      "execution_count": 36,
      "outputs": [
        {
          "output_type": "stream",
          "name": "stdout",
          "text": [
            "['data', 2, 3, 4, 5, 5, 'pune', 10, 20, 'Kolhapur', ['katraj', 'iskon'], 'katraj', 'iskon']\n"
          ]
        }
      ]
    },
    {
      "cell_type": "code",
      "source": [
        "l.insert(0,\"Karve_nagar\")\n",
        "print(l)"
      ],
      "metadata": {
        "colab": {
          "base_uri": "https://localhost:8080/"
        },
        "id": "myyS-pLONEQm",
        "outputId": "0aaac5be-77b6-414e-9f69-8db8bcf5437b"
      },
      "execution_count": 37,
      "outputs": [
        {
          "output_type": "stream",
          "name": "stdout",
          "text": [
            "['Karve_nagar', 'data', 2, 3, 4, 5, 5, 'pune', 10, 20, 'Kolhapur', ['katraj', 'iskon'], 'katraj', 'iskon']\n"
          ]
        }
      ]
    },
    {
      "cell_type": "code",
      "source": [
        "l.pop() # by defualt it will delete last ele"
      ],
      "metadata": {
        "colab": {
          "base_uri": "https://localhost:8080/",
          "height": 36
        },
        "id": "cFzEm9QTNI9V",
        "outputId": "8cbfd30c-6b5d-440b-9ddb-d81620124b22"
      },
      "execution_count": 38,
      "outputs": [
        {
          "output_type": "execute_result",
          "data": {
            "text/plain": [
              "'iskon'"
            ],
            "application/vnd.google.colaboratory.intrinsic+json": {
              "type": "string"
            }
          },
          "metadata": {},
          "execution_count": 38
        }
      ]
    },
    {
      "cell_type": "code",
      "source": [
        "print(l)"
      ],
      "metadata": {
        "colab": {
          "base_uri": "https://localhost:8080/"
        },
        "id": "Xt03nW7vNygX",
        "outputId": "9814c8d5-8ad5-451b-843c-1f11074cd0be"
      },
      "execution_count": 39,
      "outputs": [
        {
          "output_type": "stream",
          "name": "stdout",
          "text": [
            "['Karve_nagar', 'data', 2, 3, 4, 5, 5, 'pune', 10, 20, 'Kolhapur', ['katraj', 'iskon'], 'katraj']\n"
          ]
        }
      ]
    },
    {
      "cell_type": "code",
      "source": [
        "l.pop(5)\n",
        "print(l)"
      ],
      "metadata": {
        "colab": {
          "base_uri": "https://localhost:8080/"
        },
        "id": "DwzvW5VeN0Bb",
        "outputId": "70a872d1-7717-4e38-f65b-01254b16ebcb"
      },
      "execution_count": 40,
      "outputs": [
        {
          "output_type": "stream",
          "name": "stdout",
          "text": [
            "['Karve_nagar', 'data', 2, 3, 4, 5, 'pune', 10, 20, 'Kolhapur', ['katraj', 'iskon'], 'katraj']\n"
          ]
        }
      ]
    },
    {
      "cell_type": "code",
      "source": [
        "l.remove(\"pune\")\n",
        "print(l)"
      ],
      "metadata": {
        "colab": {
          "base_uri": "https://localhost:8080/"
        },
        "id": "g8t9xJAMOB01",
        "outputId": "20834c19-0ae4-45a7-9cf3-6a3e05b70190"
      },
      "execution_count": 41,
      "outputs": [
        {
          "output_type": "stream",
          "name": "stdout",
          "text": [
            "['Karve_nagar', 'data', 2, 3, 4, 5, 10, 20, 'Kolhapur', ['katraj', 'iskon'], 'katraj']\n"
          ]
        }
      ]
    },
    {
      "cell_type": "code",
      "source": [
        "l.pop(-2)\n"
      ],
      "metadata": {
        "colab": {
          "base_uri": "https://localhost:8080/"
        },
        "id": "cVEOzbLqOJ6h",
        "outputId": "f276e201-6459-4d70-f863-eb1506d0fcec"
      },
      "execution_count": 42,
      "outputs": [
        {
          "output_type": "execute_result",
          "data": {
            "text/plain": [
              "['katraj', 'iskon']"
            ]
          },
          "metadata": {},
          "execution_count": 42
        }
      ]
    },
    {
      "cell_type": "code",
      "source": [
        "print(l)"
      ],
      "metadata": {
        "colab": {
          "base_uri": "https://localhost:8080/"
        },
        "id": "cMNBHrRROao_",
        "outputId": "56367918-01eb-4674-ff2d-17c40c9e2593"
      },
      "execution_count": 43,
      "outputs": [
        {
          "output_type": "stream",
          "name": "stdout",
          "text": [
            "['Karve_nagar', 'data', 2, 3, 4, 5, 10, 20, 'Kolhapur', 'katraj']\n"
          ]
        }
      ]
    },
    {
      "cell_type": "code",
      "source": [
        "l.append([3,4,5,6,7])\n",
        "print(l)"
      ],
      "metadata": {
        "colab": {
          "base_uri": "https://localhost:8080/"
        },
        "id": "xqOhmVXxOcNS",
        "outputId": "8d0b1ef4-ca56-44f7-8f80-2b15f912462b"
      },
      "execution_count": 44,
      "outputs": [
        {
          "output_type": "stream",
          "name": "stdout",
          "text": [
            "['Karve_nagar', 'data', 2, 3, 4, 5, 10, 20, 'Kolhapur', 'katraj', [3, 4, 5, 6, 7]]\n"
          ]
        }
      ]
    },
    {
      "cell_type": "code",
      "source": [
        "#print 6,7\n",
        "l[-1][-2:]"
      ],
      "metadata": {
        "colab": {
          "base_uri": "https://localhost:8080/"
        },
        "id": "IOrWsLB4OqHv",
        "outputId": "3a84a2e0-f872-4d4c-eef6-940cdd1f7738"
      },
      "execution_count": 46,
      "outputs": [
        {
          "output_type": "execute_result",
          "data": {
            "text/plain": [
              "[6, 7]"
            ]
          },
          "metadata": {},
          "execution_count": 46
        }
      ]
    },
    {
      "cell_type": "code",
      "source": [],
      "metadata": {
        "id": "Z63INwIzO1Bm"
      },
      "execution_count": null,
      "outputs": []
    }
  ]
}